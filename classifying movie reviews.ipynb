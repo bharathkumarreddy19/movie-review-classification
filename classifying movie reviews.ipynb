{
 "cells": [
  {
   "cell_type": "code",
   "execution_count": 1,
   "metadata": {},
   "outputs": [],
   "source": [
    "import keras"
   ]
  },
  {
   "cell_type": "code",
   "execution_count": 2,
   "metadata": {},
   "outputs": [
    {
     "name": "stdout",
     "output_type": "stream",
     "text": [
      "Downloading data from https://storage.googleapis.com/tensorflow/tf-keras-datasets/imdb.npz\n",
      "17465344/17464789 [==============================] - 57s 3us/step\n"
     ]
    },
    {
     "name": "stderr",
     "output_type": "stream",
     "text": [
      "<string>:6: VisibleDeprecationWarning: Creating an ndarray from ragged nested sequences (which is a list-or-tuple of lists-or-tuples-or ndarrays with different lengths or shapes) is deprecated. If you meant to do this, you must specify 'dtype=object' when creating the ndarray\n",
      "C:\\Users\\bhara_5sejtsc\\ML\\lib\\site-packages\\tensorflow\\python\\keras\\datasets\\imdb.py:159: VisibleDeprecationWarning: Creating an ndarray from ragged nested sequences (which is a list-or-tuple of lists-or-tuples-or ndarrays with different lengths or shapes) is deprecated. If you meant to do this, you must specify 'dtype=object' when creating the ndarray\n",
      "  x_train, y_train = np.array(xs[:idx]), np.array(labels[:idx])\n",
      "C:\\Users\\bhara_5sejtsc\\ML\\lib\\site-packages\\tensorflow\\python\\keras\\datasets\\imdb.py:160: VisibleDeprecationWarning: Creating an ndarray from ragged nested sequences (which is a list-or-tuple of lists-or-tuples-or ndarrays with different lengths or shapes) is deprecated. If you meant to do this, you must specify 'dtype=object' when creating the ndarray\n",
      "  x_test, y_test = np.array(xs[idx:]), np.array(labels[idx:])\n"
     ]
    }
   ],
   "source": [
    "from keras.datasets import imdb\n",
    "(train_data,train_labels),(test_data,test_labels) = imdb.load_data(num_words = 10000)"
   ]
  },
  {
   "cell_type": "code",
   "execution_count": 3,
   "metadata": {},
   "outputs": [
    {
     "data": {
      "text/plain": [
       "(25000,)"
      ]
     },
     "execution_count": 3,
     "metadata": {},
     "output_type": "execute_result"
    }
   ],
   "source": [
    "train_data.shape"
   ]
  },
  {
   "cell_type": "code",
   "execution_count": 4,
   "metadata": {},
   "outputs": [
    {
     "data": {
      "text/plain": [
       "(25000,)"
      ]
     },
     "execution_count": 4,
     "metadata": {},
     "output_type": "execute_result"
    }
   ],
   "source": [
    "test_data.shape"
   ]
  },
  {
   "cell_type": "code",
   "execution_count": 5,
   "metadata": {},
   "outputs": [
    {
     "data": {
      "text/plain": [
       "[1,\n",
       " 14,\n",
       " 20,\n",
       " 47,\n",
       " 111,\n",
       " 439,\n",
       " 3445,\n",
       " 19,\n",
       " 12,\n",
       " 15,\n",
       " 166,\n",
       " 12,\n",
       " 216,\n",
       " 125,\n",
       " 40,\n",
       " 6,\n",
       " 364,\n",
       " 352,\n",
       " 707,\n",
       " 1187,\n",
       " 39,\n",
       " 294,\n",
       " 11,\n",
       " 22,\n",
       " 396,\n",
       " 13,\n",
       " 28,\n",
       " 8,\n",
       " 202,\n",
       " 12,\n",
       " 1109,\n",
       " 23,\n",
       " 94,\n",
       " 2,\n",
       " 151,\n",
       " 111,\n",
       " 211,\n",
       " 469,\n",
       " 4,\n",
       " 20,\n",
       " 13,\n",
       " 258,\n",
       " 546,\n",
       " 1104,\n",
       " 7273,\n",
       " 12,\n",
       " 16,\n",
       " 38,\n",
       " 78,\n",
       " 33,\n",
       " 211,\n",
       " 15,\n",
       " 12,\n",
       " 16,\n",
       " 2849,\n",
       " 63,\n",
       " 93,\n",
       " 12,\n",
       " 6,\n",
       " 253,\n",
       " 106,\n",
       " 10,\n",
       " 10,\n",
       " 48,\n",
       " 335,\n",
       " 267,\n",
       " 18,\n",
       " 6,\n",
       " 364,\n",
       " 1242,\n",
       " 1179,\n",
       " 20,\n",
       " 19,\n",
       " 6,\n",
       " 1009,\n",
       " 7,\n",
       " 1987,\n",
       " 189,\n",
       " 5,\n",
       " 6,\n",
       " 8419,\n",
       " 7,\n",
       " 2723,\n",
       " 2,\n",
       " 95,\n",
       " 1719,\n",
       " 6,\n",
       " 6035,\n",
       " 7,\n",
       " 3912,\n",
       " 7144,\n",
       " 49,\n",
       " 369,\n",
       " 120,\n",
       " 5,\n",
       " 28,\n",
       " 49,\n",
       " 253,\n",
       " 10,\n",
       " 10,\n",
       " 13,\n",
       " 1041,\n",
       " 19,\n",
       " 85,\n",
       " 795,\n",
       " 15,\n",
       " 4,\n",
       " 481,\n",
       " 9,\n",
       " 55,\n",
       " 78,\n",
       " 807,\n",
       " 9,\n",
       " 375,\n",
       " 8,\n",
       " 1167,\n",
       " 8,\n",
       " 794,\n",
       " 76,\n",
       " 7,\n",
       " 4,\n",
       " 58,\n",
       " 5,\n",
       " 4,\n",
       " 816,\n",
       " 9,\n",
       " 243,\n",
       " 7,\n",
       " 43,\n",
       " 50]"
      ]
     },
     "execution_count": 5,
     "metadata": {},
     "output_type": "execute_result"
    }
   ],
   "source": [
    "train_data[9]"
   ]
  },
  {
   "cell_type": "code",
   "execution_count": 6,
   "metadata": {},
   "outputs": [
    {
     "data": {
      "text/plain": [
       "[1,\n",
       " 61,\n",
       " 336,\n",
       " 4,\n",
       " 632,\n",
       " 9,\n",
       " 1047,\n",
       " 163,\n",
       " 5,\n",
       " 1036,\n",
       " 4832,\n",
       " 9,\n",
       " 1190,\n",
       " 17,\n",
       " 5311,\n",
       " 6,\n",
       " 6284,\n",
       " 336,\n",
       " 37,\n",
       " 304,\n",
       " 27,\n",
       " 2,\n",
       " 291,\n",
       " 154,\n",
       " 577,\n",
       " 5104,\n",
       " 2,\n",
       " 8,\n",
       " 4,\n",
       " 2,\n",
       " 18,\n",
       " 3035,\n",
       " 137,\n",
       " 50,\n",
       " 27,\n",
       " 577,\n",
       " 892,\n",
       " 6,\n",
       " 232,\n",
       " 773,\n",
       " 1022,\n",
       " 4838,\n",
       " 592,\n",
       " 8,\n",
       " 4171,\n",
       " 90,\n",
       " 59,\n",
       " 716,\n",
       " 90,\n",
       " 15,\n",
       " 5311,\n",
       " 9,\n",
       " 41,\n",
       " 1461,\n",
       " 5,\n",
       " 15,\n",
       " 41,\n",
       " 336,\n",
       " 9,\n",
       " 11,\n",
       " 2829,\n",
       " 18,\n",
       " 4475,\n",
       " 4565,\n",
       " 5,\n",
       " 41,\n",
       " 452,\n",
       " 9,\n",
       " 6,\n",
       " 4057,\n",
       " 5,\n",
       " 15,\n",
       " 59,\n",
       " 2178,\n",
       " 125,\n",
       " 19,\n",
       " 41,\n",
       " 2,\n",
       " 316,\n",
       " 23,\n",
       " 4,\n",
       " 1111,\n",
       " 9,\n",
       " 515,\n",
       " 467,\n",
       " 4,\n",
       " 1384,\n",
       " 15,\n",
       " 2,\n",
       " 6,\n",
       " 506,\n",
       " 2,\n",
       " 5311,\n",
       " 9,\n",
       " 200,\n",
       " 107,\n",
       " 1519,\n",
       " 31,\n",
       " 19,\n",
       " 7747,\n",
       " 2641,\n",
       " 5778,\n",
       " 37,\n",
       " 166,\n",
       " 6,\n",
       " 2055,\n",
       " 11,\n",
       " 4,\n",
       " 130,\n",
       " 7,\n",
       " 4,\n",
       " 22,\n",
       " 5,\n",
       " 4399,\n",
       " 1804,\n",
       " 1891,\n",
       " 39,\n",
       " 3087,\n",
       " 543,\n",
       " 61,\n",
       " 336,\n",
       " 4,\n",
       " 632,\n",
       " 47,\n",
       " 111,\n",
       " 163,\n",
       " 388,\n",
       " 40,\n",
       " 54,\n",
       " 240,\n",
       " 33,\n",
       " 6,\n",
       " 676,\n",
       " 123,\n",
       " 5,\n",
       " 316,\n",
       " 716,\n",
       " 90,\n",
       " 8,\n",
       " 297,\n",
       " 142,\n",
       " 785,\n",
       " 38,\n",
       " 29,\n",
       " 299,\n",
       " 1294,\n",
       " 1827,\n",
       " 18,\n",
       " 117,\n",
       " 539,\n",
       " 39,\n",
       " 2,\n",
       " 316,\n",
       " 214,\n",
       " 5718,\n",
       " 5,\n",
       " 889,\n",
       " 61,\n",
       " 336,\n",
       " 4,\n",
       " 632,\n",
       " 152,\n",
       " 1833,\n",
       " 6,\n",
       " 457,\n",
       " 300,\n",
       " 13,\n",
       " 104,\n",
       " 12,\n",
       " 1015,\n",
       " 6,\n",
       " 790,\n",
       " 2241]"
      ]
     },
     "execution_count": 6,
     "metadata": {},
     "output_type": "execute_result"
    }
   ],
   "source": [
    "test_data[67]"
   ]
  },
  {
   "cell_type": "code",
   "execution_count": 7,
   "metadata": {},
   "outputs": [
    {
     "data": {
      "text/plain": [
       "1"
      ]
     },
     "execution_count": 7,
     "metadata": {},
     "output_type": "execute_result"
    }
   ],
   "source": [
    "train_labels[65]"
   ]
  },
  {
   "cell_type": "code",
   "execution_count": 8,
   "metadata": {},
   "outputs": [
    {
     "data": {
      "text/plain": [
       "1"
      ]
     },
     "execution_count": 8,
     "metadata": {},
     "output_type": "execute_result"
    }
   ],
   "source": [
    "test_labels[3455]"
   ]
  },
  {
   "cell_type": "code",
   "execution_count": 10,
   "metadata": {},
   "outputs": [
    {
     "name": "stdout",
     "output_type": "stream",
     "text": [
      "9999\n"
     ]
    }
   ],
   "source": [
    "print(max([max(i) for i in train_data]))"
   ]
  },
  {
   "cell_type": "code",
   "execution_count": 42,
   "metadata": {},
   "outputs": [],
   "source": [
    "import numpy as np\n",
    "def vectorize_sequences(sequences, dimension=10000):\n",
    "    results = np.zeros((len(sequences), dimension))\n",
    "    for i, sequence in enumerate(sequences):\n",
    "        results[i, sequence] = 1.\n",
    "    return results\n",
    "x_train = vectorize_sequences(train_data)\n",
    "x_test = vectorize_sequences(test_data)"
   ]
  },
  {
   "cell_type": "code",
   "execution_count": 44,
   "metadata": {},
   "outputs": [
    {
     "data": {
      "text/plain": [
       "array([0., 1., 1., ..., 0., 0., 0.])"
      ]
     },
     "execution_count": 44,
     "metadata": {},
     "output_type": "execute_result"
    }
   ],
   "source": [
    "x_train[79]"
   ]
  },
  {
   "cell_type": "code",
   "execution_count": 45,
   "metadata": {},
   "outputs": [],
   "source": [
    "y_train = np.asarray(train_labels).astype('float32')\n",
    "y_test = np.asarray(test_labels).astype('float32')"
   ]
  },
  {
   "cell_type": "code",
   "execution_count": 111,
   "metadata": {},
   "outputs": [],
   "source": [
    "from keras import models\n",
    "from keras import layers\n",
    " \n",
    "model = models.Sequential()\n",
    "model.add(layers.Dense(64,activation = 'tanh',input_shape = (10000,)))\n",
    "model.add(layers.Dense(64, activation = 'tanh'))\n",
    "model.add(layers.Dense(64, activation = 'tanh'))\n",
    "model.add(layers.Dense(64, activation = 'tanh'))\n",
    "model.add(layers.Dense(1,activation='sigmoid'))"
   ]
  },
  {
   "cell_type": "code",
   "execution_count": 112,
   "metadata": {},
   "outputs": [],
   "source": [
    "model.compile(loss='mse',optimizer='rmsprop',metrics=['accuracy'])"
   ]
  },
  {
   "cell_type": "code",
   "execution_count": 113,
   "metadata": {},
   "outputs": [],
   "source": [
    "partial_x_train = x_train[10000:]\n",
    "x_val = x_train[:10000]\n",
    "partial_y_train = y_train[10000:]\n",
    "y_val = y_train[:10000]"
   ]
  },
  {
   "cell_type": "code",
   "execution_count": 134,
   "metadata": {},
   "outputs": [
    {
     "name": "stdout",
     "output_type": "stream",
     "text": [
      "Epoch 1/4\n",
      "30/30 [==============================] - 2s 67ms/step - loss: 0.0043 - accuracy: 0.9955 - val_loss: 0.1252 - val_accuracy: 0.8625\n",
      "Epoch 2/4\n",
      "30/30 [==============================] - 1s 26ms/step - loss: 0.0109 - accuracy: 0.9875 - val_loss: 0.1249 - val_accuracy: 0.8637\n",
      "Epoch 3/4\n",
      "30/30 [==============================] - 1s 26ms/step - loss: 0.0026 - accuracy: 0.9967 - val_loss: 0.1237 - val_accuracy: 0.8631\n",
      "Epoch 4/4\n",
      "30/30 [==============================] - 1s 24ms/step - loss: 0.0071 - accuracy: 0.9911 - val_loss: 0.1227 - val_accuracy: 0.8647\n"
     ]
    }
   ],
   "source": [
    "history = model.fit(partial_x_train,\n",
    "                   partial_y_train,\n",
    "                   epochs = 4,\n",
    "                   batch_size=512,\n",
    "                   validation_data = (x_val,y_val))"
   ]
  },
  {
   "cell_type": "code",
   "execution_count": 135,
   "metadata": {},
   "outputs": [
    {
     "data": {
      "text/plain": [
       "dict_keys(['loss', 'accuracy', 'val_loss', 'val_accuracy'])"
      ]
     },
     "execution_count": 135,
     "metadata": {},
     "output_type": "execute_result"
    }
   ],
   "source": [
    "history_dict = history.history\n",
    "history_dict.keys()"
   ]
  },
  {
   "cell_type": "code",
   "execution_count": 136,
   "metadata": {},
   "outputs": [
    {
     "data": {
      "text/plain": [
       "[<matplotlib.lines.Line2D at 0x1a99085f508>]"
      ]
     },
     "execution_count": 136,
     "metadata": {},
     "output_type": "execute_result"
    },
    {
     "data": {
      "image/png": "[encoded data removed]",
      "text/plain": [
       "<Figure size 432x288 with 1 Axes>"
      ]
     },
     "metadata": {
      "needs_background": "light"
     },
     "output_type": "display_data"
    }
   ],
   "source": [
    "import matplotlib.pyplot as plt\n",
    "history_dict = history.history\n",
    "loss_values = history_dict['loss']\n",
    "val_loss_values = history_dict['val_loss']\n",
    "epochs = range(1, 5)\n",
    "plt.plot(epochs,loss_values,'bo', label='Training_loss')\n",
    "plt.plot(epochs,val_loss_values,'b',label='Validation_loss')"
   ]
  },
  {
   "cell_type": "code",
   "execution_count": 137,
   "metadata": {},
   "outputs": [
    {
     "data": {
      "text/plain": [
       "[<matplotlib.lines.Line2D at 0x1a9909f2b08>]"
      ]
     },
     "execution_count": 137,
     "metadata": {},
     "output_type": "execute_result"
    },
    {
     "data": {
      "image/png": "[encoded data removed]",
      "text/plain": [
       "<Figure size 432x288 with 1 Axes>"
      ]
     },
     "metadata": {
      "needs_background": "light"
     },
     "output_type": "display_data"
    }
   ],
   "source": [
    "history_dict = history.history\n",
    "accuracy_values = history_dict['accuracy']\n",
    "val_accuracy_values = history_dict['val_accuracy']\n",
    "epochs = range(1, 5)\n",
    "plt.plot(epochs,accuracy_values,'ro', label='Training_accuracy')\n",
    "plt.plot(epochs,val_accuracy_values,'r',label='Validation_accuracy')"
   ]
  },
  {
   "cell_type": "code",
   "execution_count": 138,
   "metadata": {},
   "outputs": [
    {
     "name": "stdout",
     "output_type": "stream",
     "text": [
      "782/782 [==============================] - 1s 2ms/step - loss: 0.1356 - accuracy: 0.8504\n"
     ]
    }
   ],
   "source": [
    "results = model.evaluate(x_test,y_test)"
   ]
  },
  {
   "cell_type": "code",
   "execution_count": 139,
   "metadata": {},
   "outputs": [
    {
     "data": {
      "text/plain": [
       "[0.13555903732776642, 0.8503599762916565]"
      ]
     },
     "execution_count": 139,
     "metadata": {},
     "output_type": "execute_result"
    }
   ],
   "source": [
    "results"
   ]
  },
  {
   "cell_type": "code",
   "execution_count": 140,
   "metadata": {},
   "outputs": [
    {
     "data": {
      "text/plain": [
       "array([[0.02238312],\n",
       "       [0.99947155],\n",
       "       [0.99123305],\n",
       "       ...,\n",
       "       [0.01681942],\n",
       "       [0.00890785],\n",
       "       [0.99277693]], dtype=float32)"
      ]
     },
     "execution_count": 140,
     "metadata": {},
     "output_type": "execute_result"
    }
   ],
   "source": [
    "model.predict(x_test)"
   ]
  },
  {
   "cell_type": "code",
   "execution_count": null,
   "metadata": {},
   "outputs": [],
   "source": []
  }
 ],
 "metadata": {
  "kernelspec": {
   "display_name": "Python 3",
   "language": "python",
   "name": "python3"
  },
  "language_info": {
   "codemirror_mode": {
    "name": "ipython",
    "version": 3
   },
   "file_extension": ".py",
   "mimetype": "text/x-python",
   "name": "python",
   "nbconvert_exporter": "python",
   "pygments_lexer": "ipython3",
   "version": "3.7.4"
  }
 },
 "nbformat": 4,
 "nbformat_minor": 2
}
